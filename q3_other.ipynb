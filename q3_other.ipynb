{
 "cells": [
  {
   "cell_type": "code",
   "execution_count": 1,
   "metadata": {},
   "outputs": [],
   "source": [
    "import numpy as np\n",
    "import pandas as pd\n",
    "import datetime\n",
    "import matplotlib.pyplot as plt"
   ]
  },
  {
   "cell_type": "code",
   "execution_count": 2,
   "metadata": {},
   "outputs": [],
   "source": [
    "orders = pd.read_csv(\"../Downloads/bl_data/bl_fulfillment_orders.csv\", parse_dates = [\"created_at\"])\n",
    "order_states = pd.read_csv(\"../Downloads/bl_data/bl_fulfillment_order_states.csv\", parse_dates = [\"created_at\"])\n",
    "order_items = pd.read_csv(\"../Downloads/bl_data/bl_fulfillment_order_items.csv\", parse_dates = [\"created_at\"])"
   ]
  },
  {
   "cell_type": "markdown",
   "metadata": {},
   "source": [
    "## Examining Orders with Multiple Items\n",
    "\n",
    "My goal is to examine orders with multiple items.  First, I will plot the distribution of order sizes to get an idea of how many items make up a single order.  I will then count all pairings of items in orders of size > 1.  This can be used to find the most common pairings, which might help in figuring out where items should be stocked in a warehouse.  Items that are commonly ordered together should be near one another to minimize the distance one needs to cover to retrieve them.  I will also be able to find the most common pairings for a given item.  This can be useful for surfacing recommendations based on what a user is currently looking at."
   ]
  },
  {
   "cell_type": "code",
   "execution_count": 3,
   "metadata": {},
   "outputs": [],
   "source": [
    "orders_placed = orders[~orders[\"state\"].isin([\"cancelled\", \"open_order\"])]\n",
    "\n",
    "order_items_placed = order_items[order_items[\"order_id\"].isin(orders_placed[\"id\"].to_list())]\n",
    "item_list = np.unique(order_items_placed[\"product_id\"])\n",
    "pair_dict = {k: [] for k in item_list}\n",
    "items_per_order = order_items_placed[[\"order_id\",\"product_id\"]].groupby(\"order_id\")[\"product_id\"].apply(list)\n",
    "for i in items_per_order.index:\n",
    "    items = np.unique(items_per_order.loc[i])\n",
    "    for j in range(len(items)-1):\n",
    "        for k in range(j+1, len(items)):\n",
    "            it1 = items[j]\n",
    "            it2 = items[k]\n",
    "            if it2 < it1:\n",
    "                tmp = it1\n",
    "                it1 = it2\n",
    "                it2 = tmp\n",
    "            pair_dict[it1].append(it2)\n",
    "\n",
    "bb_orders = orders_placed[orders_placed[\"order_type\"]==\"hello_baby_box\"][\"id\"].to_list()\n",
    "items_per_order_nobb = items_per_order[~np.isin(list(items_per_order.index), bb_orders)]\n",
    "\n",
    "order_sizes_nobb = np.array(items_per_order_nobb.apply(len))\n",
    "ord_unq = np.unique(order_sizes_nobb, return_counts=True)"
   ]
  },
  {
   "cell_type": "markdown",
   "metadata": {},
   "source": [
    "## Distribution of Order Size\n",
    "\n",
    "Below, I've plotted the distribution of order sizes (i.e. number of items in each order).  I exclude orders that have a state of cancelled or open_order, as well as orders of type hello_baby_box.  Around 70% of orders are for a single item, meaning that 30% of orders contain multiple items."
   ]
  },
  {
   "cell_type": "code",
   "execution_count": 4,
   "metadata": {},
   "outputs": [
    {
     "data": {
      "text/plain": [
       "Text(0.5, 1.0, 'Distribution of order size')"
      ]
     },
     "execution_count": 4,
     "metadata": {},
     "output_type": "execute_result"
    },
    {
     "data": {
      "image/png": "[encoded data removed]",
      "text/plain": [
       "<Figure size 432x288 with 1 Axes>"
      ]
     },
     "metadata": {
      "needs_background": "light"
     },
     "output_type": "display_data"
    }
   ],
   "source": [
    "plt.hist(order_sizes_nobb, bins=[.5,1.5,2.5,3.5,4.5,5.5,6.5,7.5,8.5], edgecolor=\"black\", density=True)\n",
    "plt.title(\"Distribution of order size\")"
   ]
  },
  {
   "cell_type": "code",
   "execution_count": 5,
   "metadata": {},
   "outputs": [
    {
     "data": {
      "text/html": [
       "<div>\n",
       "<style scoped>\n",
       "    .dataframe tbody tr th:only-of-type {\n",
       "        vertical-align: middle;\n",
       "    }\n",
       "\n",
       "    .dataframe tbody tr th {\n",
       "        vertical-align: top;\n",
       "    }\n",
       "\n",
       "    .dataframe thead th {\n",
       "        text-align: right;\n",
       "    }\n",
       "</style>\n",
       "<table border=\"1\" class=\"dataframe\">\n",
       "  <thead>\n",
       "    <tr style=\"text-align: right;\">\n",
       "      <th></th>\n",
       "      <th>num_orders</th>\n",
       "      <th>proportion</th>\n",
       "    </tr>\n",
       "  </thead>\n",
       "  <tbody>\n",
       "    <tr>\n",
       "      <th>1</th>\n",
       "      <td>244089</td>\n",
       "      <td>0.704425</td>\n",
       "    </tr>\n",
       "    <tr>\n",
       "      <th>2</th>\n",
       "      <td>48274</td>\n",
       "      <td>0.139316</td>\n",
       "    </tr>\n",
       "    <tr>\n",
       "      <th>3</th>\n",
       "      <td>23374</td>\n",
       "      <td>0.067456</td>\n",
       "    </tr>\n",
       "    <tr>\n",
       "      <th>4</th>\n",
       "      <td>12163</td>\n",
       "      <td>0.035102</td>\n",
       "    </tr>\n",
       "    <tr>\n",
       "      <th>5</th>\n",
       "      <td>6459</td>\n",
       "      <td>0.018640</td>\n",
       "    </tr>\n",
       "    <tr>\n",
       "      <th>6</th>\n",
       "      <td>3889</td>\n",
       "      <td>0.011223</td>\n",
       "    </tr>\n",
       "    <tr>\n",
       "      <th>7</th>\n",
       "      <td>2472</td>\n",
       "      <td>0.007134</td>\n",
       "    </tr>\n",
       "    <tr>\n",
       "      <th>8+</th>\n",
       "      <td>5788</td>\n",
       "      <td>0.016704</td>\n",
       "    </tr>\n",
       "  </tbody>\n",
       "</table>\n",
       "</div>"
      ],
      "text/plain": [
       "    num_orders  proportion\n",
       "1       244089    0.704425\n",
       "2        48274    0.139316\n",
       "3        23374    0.067456\n",
       "4        12163    0.035102\n",
       "5         6459    0.018640\n",
       "6         3889    0.011223\n",
       "7         2472    0.007134\n",
       "8+        5788    0.016704"
      ]
     },
     "execution_count": 5,
     "metadata": {},
     "output_type": "execute_result"
    }
   ],
   "source": [
    "labels = [\"1\", \"2\", \"3\", \"4\", \"5\", \"6\", \"7\", \"8+\"]\n",
    "dat = np.concatenate([ord_unq[1][0:7], [np.sum(ord_unq[1][7:])]])\n",
    "order_dist = pd.DataFrame(index=labels, data={\"num_orders\":dat})\n",
    "order_dist[\"proportion\"] = order_dist[\"num_orders\"] / np.sum(order_dist[\"num_orders\"])\n",
    "order_dist"
   ]
  },
  {
   "cell_type": "code",
   "execution_count": 6,
   "metadata": {},
   "outputs": [],
   "source": [
    "pairings = {}\n",
    "for i in pair_dict:\n",
    "    its = pair_dict[i]\n",
    "    for j in its:\n",
    "        pair = (i, j)\n",
    "        if (i, j) in pairings:\n",
    "            pairings[(i, j)] += 1\n",
    "        else:\n",
    "            pairings[(i, j)] = 1\n",
    "\n",
    "pairings = pd.Series(pairings)\n",
    "pairings.sort_values(ascending=False, inplace=True)\n",
    "pairings = pd.DataFrame(pairings)\n",
    "pairings.rename({0:\"num_orders\"},axis=\"columns\",inplace=True)\n",
    "pairings.index.names = [\"item_1\",\"item_2\"]\n",
    "\n",
    "prod_dict = {}\n",
    "for i in order_items.index:\n",
    "    prod_dict[order_items.loc[i, \"product_id\"]] = order_items.loc[i, \"name\"]"
   ]
  },
  {
   "cell_type": "markdown",
   "metadata": {},
   "source": [
    "## Pairs of Items Ordered Together\n",
    "\n",
    "I am interested in which items are most often ordered together.  I've counted the number of times each pair of items appears in an order.  For example, if you were to order a diaper, a bottle, and a book then the pairs (diaper, bottle), (bottle, book), and (diaper, book) would each be counted once.  Below, I list the top ten item pairs and how many orders each pairing appears in."
   ]
  },
  {
   "cell_type": "code",
   "execution_count": 7,
   "metadata": {},
   "outputs": [
    {
     "name": "stdout",
     "output_type": "stream",
     "text": [
      "Boppy Bare Naked Nursing Pillow and Positioner & Boppy Water Resistant Protective Cover: 768\n",
      "\n",
      "Boon Lawn Countertop Drying Rack - Green & Boon Drying Rack Accessory (Twig) - White: 517\n",
      "\n",
      "The Very Hungry Caterpillar & Goodnight Moon: 401\n",
      "\n",
      "The Very Hungry Caterpillar & Brown Bear, Brown Bear, What Do You See?: 318\n",
      "\n",
      "Boppy Bare Naked Nursing Pillow and Positioner & Boppy COVER ONLY: Organic Nursing Pillow Slipcover - Gray Little Elephants: 309\n",
      "\n",
      "Comotomo Baby Bottle (2 Pack) - Green, 8 oz & Comotomo Baby Bottle (2 Pack) - Green, 5 oz: 308\n",
      "\n",
      "FridaBaby NoseFrida The Snotsucker Nasal Aspirator & FridaBaby NailFrida the SnipperClipper Set: 278\n",
      "\n",
      "Munchkin Arm & Hammer Diaper Bag Dispenser - Assorted--Colors Vary & Munchkin Arm & Hammer Bag Refills for Munchkin (3 Pack): 275\n",
      "\n",
      "Earth Mama Organic Nipple Butter - 2 oz & Earth Mama Organic Diaper Balm - 2 oz: 268\n",
      "\n",
      "Boon Drying Rack Accessory (Twig) - White & Boon Grass Countertop Drying Rack - Green: 265\n",
      "\n"
     ]
    }
   ],
   "source": [
    "for i in pairings.head(n=10).index:\n",
    "    it1 = prod_dict[i[0]]\n",
    "    it2 = prod_dict[i[1]]\n",
    "    print(it1 + \" & \" + it2 + \": \" + str(pairings.loc[i,\"num_orders\"]))\n",
    "    print(\"\")"
   ]
  },
  {
   "cell_type": "code",
   "execution_count": 8,
   "metadata": {},
   "outputs": [],
   "source": [
    "top_items = order_items_placed[[\"product_id\",\"id\"]].groupby(\"product_id\").count()\n",
    "top_items.rename({\"id\":\"num_orders\"},axis=\"columns\",inplace=True)\n",
    "top_items.sort_values(\"num_orders\", ascending=False, inplace=True)\n",
    "top_items.reset_index(inplace=True)\n",
    "\n",
    "gc_ids = order_items[order_items[\"name\"].str.match(\"Babylist Store Gift Card.*\")][\"product_id\"]\n",
    "bb_ids = order_items[order_items[\"name\"].str.match(\"Babylist Hello Baby Box.*\")][\"product_id\"]\n",
    "\n",
    "top_items = top_items[~top_items[\"product_id\"].isin(gc_ids)]\n",
    "top_items = top_items[~top_items[\"product_id\"].isin(bb_ids)]\n",
    "top_items.reset_index(inplace=True,drop=True)"
   ]
  },
  {
   "cell_type": "markdown",
   "metadata": {},
   "source": [
    "## Items Most Commonly Paired With a Given Item\n",
    "\n",
    "I've listed the ten most commonly ordered items.  Because we have counted every item pairing, we can see what is most commonly ordered with any given item.  I do this with product id 20713, a sound machine/night light/alarm clock.  I list out the 11 items that appeared in at least 40 orders with product 20713, with the top item being a toy giraffe."
   ]
  },
  {
   "cell_type": "code",
   "execution_count": 9,
   "metadata": {},
   "outputs": [
    {
     "data": {
      "text/html": [
       "<div>\n",
       "<style scoped>\n",
       "    .dataframe tbody tr th:only-of-type {\n",
       "        vertical-align: middle;\n",
       "    }\n",
       "\n",
       "    .dataframe tbody tr th {\n",
       "        vertical-align: top;\n",
       "    }\n",
       "\n",
       "    .dataframe thead th {\n",
       "        text-align: right;\n",
       "    }\n",
       "</style>\n",
       "<table border=\"1\" class=\"dataframe\">\n",
       "  <thead>\n",
       "    <tr style=\"text-align: right;\">\n",
       "      <th></th>\n",
       "      <th>product_id</th>\n",
       "      <th>num_orders</th>\n",
       "    </tr>\n",
       "  </thead>\n",
       "  <tbody>\n",
       "    <tr>\n",
       "      <th>0</th>\n",
       "      <td>20713.0</td>\n",
       "      <td>10047</td>\n",
       "    </tr>\n",
       "    <tr>\n",
       "      <th>1</th>\n",
       "      <td>1401.0</td>\n",
       "      <td>4239</td>\n",
       "    </tr>\n",
       "    <tr>\n",
       "      <th>2</th>\n",
       "      <td>583.0</td>\n",
       "      <td>4099</td>\n",
       "    </tr>\n",
       "    <tr>\n",
       "      <th>3</th>\n",
       "      <td>3659.0</td>\n",
       "      <td>3838</td>\n",
       "    </tr>\n",
       "    <tr>\n",
       "      <th>4</th>\n",
       "      <td>3689.0</td>\n",
       "      <td>3555</td>\n",
       "    </tr>\n",
       "    <tr>\n",
       "      <th>5</th>\n",
       "      <td>3688.0</td>\n",
       "      <td>3526</td>\n",
       "    </tr>\n",
       "    <tr>\n",
       "      <th>6</th>\n",
       "      <td>3674.0</td>\n",
       "      <td>3510</td>\n",
       "    </tr>\n",
       "    <tr>\n",
       "      <th>7</th>\n",
       "      <td>3352.0</td>\n",
       "      <td>3423</td>\n",
       "    </tr>\n",
       "    <tr>\n",
       "      <th>8</th>\n",
       "      <td>3699.0</td>\n",
       "      <td>3364</td>\n",
       "    </tr>\n",
       "    <tr>\n",
       "      <th>9</th>\n",
       "      <td>16621.0</td>\n",
       "      <td>3313</td>\n",
       "    </tr>\n",
       "  </tbody>\n",
       "</table>\n",
       "</div>"
      ],
      "text/plain": [
       "   product_id  num_orders\n",
       "0     20713.0       10047\n",
       "1      1401.0        4239\n",
       "2       583.0        4099\n",
       "3      3659.0        3838\n",
       "4      3689.0        3555\n",
       "5      3688.0        3526\n",
       "6      3674.0        3510\n",
       "7      3352.0        3423\n",
       "8      3699.0        3364\n",
       "9     16621.0        3313"
      ]
     },
     "execution_count": 9,
     "metadata": {},
     "output_type": "execute_result"
    }
   ],
   "source": [
    "top_items.head(n=10)"
   ]
  },
  {
   "cell_type": "code",
   "execution_count": 10,
   "metadata": {},
   "outputs": [
    {
     "data": {
      "text/html": [
       "<div>\n",
       "<style scoped>\n",
       "    .dataframe tbody tr th:only-of-type {\n",
       "        vertical-align: middle;\n",
       "    }\n",
       "\n",
       "    .dataframe tbody tr th {\n",
       "        vertical-align: top;\n",
       "    }\n",
       "\n",
       "    .dataframe thead th {\n",
       "        text-align: right;\n",
       "    }\n",
       "</style>\n",
       "<table border=\"1\" class=\"dataframe\">\n",
       "  <thead>\n",
       "    <tr style=\"text-align: right;\">\n",
       "      <th></th>\n",
       "      <th></th>\n",
       "      <th>num_orders</th>\n",
       "    </tr>\n",
       "    <tr>\n",
       "      <th>item_1</th>\n",
       "      <th>item_2</th>\n",
       "      <th></th>\n",
       "    </tr>\n",
       "  </thead>\n",
       "  <tbody>\n",
       "    <tr>\n",
       "      <th>1401.0</th>\n",
       "      <th>20713.0</th>\n",
       "      <td>70</td>\n",
       "    </tr>\n",
       "    <tr>\n",
       "      <th>3659.0</th>\n",
       "      <th>20713.0</th>\n",
       "      <td>68</td>\n",
       "    </tr>\n",
       "    <tr>\n",
       "      <th>3688.0</th>\n",
       "      <th>20713.0</th>\n",
       "      <td>53</td>\n",
       "    </tr>\n",
       "    <tr>\n",
       "      <th>3689.0</th>\n",
       "      <th>20713.0</th>\n",
       "      <td>53</td>\n",
       "    </tr>\n",
       "    <tr>\n",
       "      <th>3739.0</th>\n",
       "      <th>20713.0</th>\n",
       "      <td>46</td>\n",
       "    </tr>\n",
       "    <tr>\n",
       "      <th>3792.0</th>\n",
       "      <th>20713.0</th>\n",
       "      <td>44</td>\n",
       "    </tr>\n",
       "    <tr>\n",
       "      <th>3699.0</th>\n",
       "      <th>20713.0</th>\n",
       "      <td>43</td>\n",
       "    </tr>\n",
       "    <tr>\n",
       "      <th>5328.0</th>\n",
       "      <th>20713.0</th>\n",
       "      <td>43</td>\n",
       "    </tr>\n",
       "    <tr>\n",
       "      <th>1293.0</th>\n",
       "      <th>20713.0</th>\n",
       "      <td>42</td>\n",
       "    </tr>\n",
       "    <tr>\n",
       "      <th>3679.0</th>\n",
       "      <th>20713.0</th>\n",
       "      <td>42</td>\n",
       "    </tr>\n",
       "    <tr>\n",
       "      <th>3352.0</th>\n",
       "      <th>20713.0</th>\n",
       "      <td>40</td>\n",
       "    </tr>\n",
       "  </tbody>\n",
       "</table>\n",
       "</div>"
      ],
      "text/plain": [
       "                num_orders\n",
       "item_1 item_2             \n",
       "1401.0 20713.0          70\n",
       "3659.0 20713.0          68\n",
       "3688.0 20713.0          53\n",
       "3689.0 20713.0          53\n",
       "3739.0 20713.0          46\n",
       "3792.0 20713.0          44\n",
       "3699.0 20713.0          43\n",
       "5328.0 20713.0          43\n",
       "1293.0 20713.0          42\n",
       "3679.0 20713.0          42\n",
       "3352.0 20713.0          40"
      ]
     },
     "execution_count": 10,
     "metadata": {},
     "output_type": "execute_result"
    }
   ],
   "source": [
    "pd.concat([pairings.query(\"item_1 == 20713 & num_orders >= 40\"),\n",
    "           pairings.query(\"item_2 == 20713 & num_orders >= 40\")], axis=0).sort_values(\"num_orders\", ascending=False)"
   ]
  },
  {
   "cell_type": "code",
   "execution_count": 11,
   "metadata": {},
   "outputs": [
    {
     "data": {
      "text/plain": [
       "'Hatch Baby Rest Sound Machine, Night Light & Time-to-Rise'"
      ]
     },
     "execution_count": 11,
     "metadata": {},
     "output_type": "execute_result"
    }
   ],
   "source": [
    "prod_dict[20713]"
   ]
  },
  {
   "cell_type": "code",
   "execution_count": 12,
   "metadata": {},
   "outputs": [
    {
     "data": {
      "text/plain": [
       "'Vulli Sophie the Giraffe Teether'"
      ]
     },
     "execution_count": 12,
     "metadata": {},
     "output_type": "execute_result"
    }
   ],
   "source": [
    "prod_dict[1401]"
   ]
  },
  {
   "cell_type": "markdown",
   "metadata": {},
   "source": [
    "## More Item Pairings\n",
    "\n",
    "I now look at pairings for product 1401, the toy giraffe.  There are seven items that show up in at least 70 orders with the giraffe, and the most frequent pairing is a giraffe shaped pacifier that was paired 116 times."
   ]
  },
  {
   "cell_type": "code",
   "execution_count": 13,
   "metadata": {},
   "outputs": [
    {
     "data": {
      "text/html": [
       "<div>\n",
       "<style scoped>\n",
       "    .dataframe tbody tr th:only-of-type {\n",
       "        vertical-align: middle;\n",
       "    }\n",
       "\n",
       "    .dataframe tbody tr th {\n",
       "        vertical-align: top;\n",
       "    }\n",
       "\n",
       "    .dataframe thead th {\n",
       "        text-align: right;\n",
       "    }\n",
       "</style>\n",
       "<table border=\"1\" class=\"dataframe\">\n",
       "  <thead>\n",
       "    <tr style=\"text-align: right;\">\n",
       "      <th></th>\n",
       "      <th></th>\n",
       "      <th>num_orders</th>\n",
       "    </tr>\n",
       "    <tr>\n",
       "      <th>item_1</th>\n",
       "      <th>item_2</th>\n",
       "      <th></th>\n",
       "    </tr>\n",
       "  </thead>\n",
       "  <tbody>\n",
       "    <tr>\n",
       "      <th rowspan=\"5\" valign=\"top\">1401.0</th>\n",
       "      <th>3679.0</th>\n",
       "      <td>116</td>\n",
       "    </tr>\n",
       "    <tr>\n",
       "      <th>3659.0</th>\n",
       "      <td>109</td>\n",
       "    </tr>\n",
       "    <tr>\n",
       "      <th>3720.0</th>\n",
       "      <td>103</td>\n",
       "    </tr>\n",
       "    <tr>\n",
       "      <th>3699.0</th>\n",
       "      <td>84</td>\n",
       "    </tr>\n",
       "    <tr>\n",
       "      <th>3689.0</th>\n",
       "      <td>81</td>\n",
       "    </tr>\n",
       "    <tr>\n",
       "      <th>1293.0</th>\n",
       "      <th>1401.0</th>\n",
       "      <td>76</td>\n",
       "    </tr>\n",
       "    <tr>\n",
       "      <th>1401.0</th>\n",
       "      <th>20713.0</th>\n",
       "      <td>70</td>\n",
       "    </tr>\n",
       "  </tbody>\n",
       "</table>\n",
       "</div>"
      ],
      "text/plain": [
       "                num_orders\n",
       "item_1 item_2             \n",
       "1401.0 3679.0          116\n",
       "       3659.0          109\n",
       "       3720.0          103\n",
       "       3699.0           84\n",
       "       3689.0           81\n",
       "1293.0 1401.0           76\n",
       "1401.0 20713.0          70"
      ]
     },
     "execution_count": 13,
     "metadata": {},
     "output_type": "execute_result"
    }
   ],
   "source": [
    "pd.concat([pairings.query(\"item_1 == 1401 & num_orders >= 70\"),\n",
    "           pairings.query(\"item_2 == 1401 & num_orders >= 70\")], axis=0).sort_values(\"num_orders\", ascending=False)"
   ]
  },
  {
   "cell_type": "code",
   "execution_count": 14,
   "metadata": {},
   "outputs": [
    {
     "data": {
      "text/plain": [
       "'Vulli Sophie the Giraffe Teether'"
      ]
     },
     "execution_count": 14,
     "metadata": {},
     "output_type": "execute_result"
    }
   ],
   "source": [
    "prod_dict[1401]"
   ]
  },
  {
   "cell_type": "code",
   "execution_count": 15,
   "metadata": {},
   "outputs": [
    {
     "data": {
      "text/plain": [
       "'WubbaNub Pacifier - Giraffe'"
      ]
     },
     "execution_count": 15,
     "metadata": {},
     "output_type": "execute_result"
    }
   ],
   "source": [
    "prod_dict[3679]"
   ]
  },
  {
   "cell_type": "code",
   "execution_count": null,
   "metadata": {},
   "outputs": [],
   "source": []
  }
 ],
 "metadata": {
  "kernelspec": {
   "display_name": "Python 3",
   "language": "python",
   "name": "python3"
  },
  "language_info": {
   "codemirror_mode": {
    "name": "ipython",
    "version": 3
   },
   "file_extension": ".py",
   "mimetype": "text/x-python",
   "name": "python",
   "nbconvert_exporter": "python",
   "pygments_lexer": "ipython3",
   "version": "3.6.8"
  }
 },
 "nbformat": 4,
 "nbformat_minor": 2
}
